{
 "cells": [
  {
   "cell_type": "code",
   "execution_count": null,
   "metadata": {},
   "outputs": [],
   "source": [
    "import pandas as pd\n",
    "import numpy as np\n",
    "import matplotlib.pyplot as plt\n",
    "from sklearn.preprocessing import LabelEncoder\n",
    "from sklearn.model_selection import train_test_split\n",
    "\n",
    "import pmdarima as pm\n",
    "from pmdarima import model_selection\n",
    "\n",
    "from xgboost import XGBClassifier"
   ]
  },
  {
   "cell_type": "code",
   "execution_count": null,
   "metadata": {},
   "outputs": [
    {
     "name": "stdout",
     "output_type": "stream",
     "text": [
      "<class 'pandas.core.frame.DataFrame'>\n",
      "RangeIndex: 21371 entries, 0 to 21370\n",
      "Data columns (total 2 columns):\n",
      " #   Column        Non-Null Count  Dtype \n",
      "---  ------        --------------  ----- \n",
      " 0   API Code      21371 non-null  object\n",
      " 1   Time of Call  21371 non-null  object\n",
      "dtypes: object(2)\n",
      "memory usage: 334.0+ KB\n"
     ]
    }
   ],
   "source": [
    "dataset = pd.read_csv('API Call Dataset.csv')\n",
    "dataset.info()"
   ]
  },
  {
   "cell_type": "code",
   "execution_count": 6,
   "metadata": {},
   "outputs": [
    {
     "data": {
      "text/plain": [
       "API Code\n",
       "A9    2451\n",
       "A2    2438\n",
       "A7    2410\n",
       "A4    2402\n",
       "A1    2363\n",
       "A3    2359\n",
       "A6    2348\n",
       "A5    2323\n",
       "A8    2277\n",
       "Name: count, dtype: int64"
      ]
     },
     "execution_count": 6,
     "metadata": {},
     "output_type": "execute_result"
    }
   ],
   "source": [
    "dataset['API Code'].value_counts()"
   ]
  },
  {
   "cell_type": "code",
   "execution_count": 7,
   "metadata": {},
   "outputs": [],
   "source": [
    "# A9 A2 A7 are top three most frequent calls\n",
    "dataset[dataset['API Code']=='A9'].to_csv('A9.csv',index = False)\n",
    "dataset[dataset['API Code']=='A2'].to_csv('A2.csv', index = False)\n",
    "dataset[dataset['API Code']=='A7'].to_csv('A7.csv', index = False)"
   ]
  },
  {
   "cell_type": "code",
   "execution_count": 8,
   "metadata": {},
   "outputs": [],
   "source": [
    "A2_dataset = pd.read_csv('A2.csv')\n",
    "A7_dataset = pd.read_csv('A7.csv')\n",
    "A9_dataset = pd.read_csv('A9.csv')"
   ]
  },
  {
   "cell_type": "code",
   "execution_count": 9,
   "metadata": {},
   "outputs": [
    {
     "name": "stdout",
     "output_type": "stream",
     "text": [
      "<class 'pandas.core.frame.DataFrame'>\n",
      "RangeIndex: 2438 entries, 0 to 2437\n",
      "Data columns (total 2 columns):\n",
      " #   Column        Non-Null Count  Dtype \n",
      "---  ------        --------------  ----- \n",
      " 0   API Code      2438 non-null   object\n",
      " 1   Time of Call  2438 non-null   object\n",
      "dtypes: object(2)\n",
      "memory usage: 38.2+ KB\n"
     ]
    }
   ],
   "source": [
    "A2_dataset.info()"
   ]
  },
  {
   "cell_type": "code",
   "execution_count": 12,
   "metadata": {},
   "outputs": [],
   "source": [
    "A2_dataset['time_of_call'] = pd.to_datetime(A2_dataset['Time of Call'],format='mixed',dayfirst=True)\n",
    "A2_dataset = A2_dataset.drop('Time of Call',axis=1)\n",
    "\n",
    "A7_dataset['time_of_call'] = pd.to_datetime(A7_dataset['Time of Call'],format='mixed',dayfirst=True)\n",
    "A7_dataset = A7_dataset.drop('Time of Call',axis=1)\n",
    "\n",
    "A9_dataset['time_of_call'] = pd.to_datetime(A9_dataset['Time of Call'],format='mixed',dayfirst=True)\n",
    "A9_dataset = A9_dataset.drop('Time of Call',axis=1)"
   ]
  },
  {
   "cell_type": "code",
   "execution_count": 16,
   "metadata": {},
   "outputs": [],
   "source": [
    "A2_dataset['time_of_call']=A2_dataset['time_of_call'].astype('int')\n",
    "A7_dataset['time_of_call']=A7_dataset['time_of_call'].astype('int')\n",
    "A9_dataset['time_of_call']=A9_dataset['time_of_call'].astype('int')"
   ]
  },
  {
   "cell_type": "code",
   "execution_count": 17,
   "metadata": {},
   "outputs": [],
   "source": [
    "processed_dataset = pd.concat([A2_dataset,A7_dataset,A9_dataset],axis=0)"
   ]
  },
  {
   "cell_type": "code",
   "execution_count": 21,
   "metadata": {},
   "outputs": [
    {
     "data": {
      "text/plain": [
       "[<matplotlib.lines.Line2D at 0x16d219c6200>]"
      ]
     },
     "execution_count": 21,
     "metadata": {},
     "output_type": "execute_result"
    },
    {
     "data": {
      "image/png": "[encoded data removed]",
      "text/plain": [
       "<Figure size 640x480 with 1 Axes>"
      ]
     },
     "metadata": {},
     "output_type": "display_data"
    }
   ],
   "source": [
    "processed_dataset=processed_dataset.sort_values(by='time_of_call')\n",
    "plt.plot(processed_dataset['API Code'],processed_dataset['time_of_call'])"
   ]
  },
  {
   "cell_type": "code",
   "execution_count": null,
   "metadata": {},
   "outputs": [],
   "source": [
    "le=LabelEncoder()\n",
    "processed_dataset['code']=le.fit_transform(processed_dataset['API Code'])"
   ]
  },
  {
   "cell_type": "code",
   "execution_count": 31,
   "metadata": {},
   "outputs": [],
   "source": [
    "x_train_A2 , x_test_A2 = train_test_split(A2_dataset['time_of_call'] , test_size = 0.2)\n",
    "x_train_A7 , x_test_A7 = train_test_split(A7_dataset['time_of_call'] , test_size = 0.2)\n",
    "x_train_A9 , x_test_A9 = train_test_split(A9_dataset['time_of_call'] , test_size = 0.2)"
   ]
  },
  {
   "cell_type": "code",
   "execution_count": 33,
   "metadata": {},
   "outputs": [
    {
     "name": "stdout",
     "output_type": "stream",
     "text": [
      "Performing stepwise search to minimize aic\n",
      " ARIMA(2,0,2)(1,0,1)[12] intercept   : AIC=inf, Time=0.76 sec\n",
      " ARIMA(0,0,0)(0,0,0)[12] intercept   : AIC=146228.160, Time=0.05 sec\n",
      " ARIMA(1,0,0)(1,0,0)[12] intercept   : AIC=inf, Time=1.59 sec\n",
      " ARIMA(0,0,1)(0,0,1)[12] intercept   : AIC=168442.044, Time=0.36 sec\n",
      " ARIMA(0,0,0)(0,0,0)[12]             : AIC=170217.460, Time=0.03 sec\n",
      " ARIMA(0,0,0)(1,0,0)[12] intercept   : AIC=inf, Time=1.43 sec\n",
      " ARIMA(0,0,0)(0,0,1)[12] intercept   : AIC=146230.159, Time=0.17 sec\n",
      " ARIMA(0,0,0)(1,0,1)[12] intercept   : AIC=inf, Time=0.66 sec\n",
      " ARIMA(1,0,0)(0,0,0)[12] intercept   : AIC=inf, Time=0.05 sec\n",
      " ARIMA(0,0,1)(0,0,0)[12] intercept   : AIC=168782.654, Time=0.18 sec\n",
      " ARIMA(1,0,1)(0,0,0)[12] intercept   : AIC=146393.371, Time=0.22 sec\n",
      "\n",
      "Best model:  ARIMA(0,0,0)(0,0,0)[12] intercept\n",
      "Total fit time: 5.542 seconds\n",
      "Performing stepwise search to minimize aic\n",
      " ARIMA(2,0,2)(1,0,1)[12] intercept   : AIC=inf, Time=0.65 sec\n",
      " ARIMA(0,0,0)(0,0,0)[12] intercept   : AIC=146228.160, Time=0.05 sec\n",
      " ARIMA(1,0,0)(1,0,0)[12] intercept   : AIC=inf, Time=1.48 sec\n",
      " ARIMA(0,0,1)(0,0,1)[12] intercept   : AIC=168442.044, Time=0.35 sec\n",
      " ARIMA(0,0,0)(0,0,0)[12]             : AIC=170217.460, Time=0.02 sec\n",
      " ARIMA(0,0,0)(1,0,0)[12] intercept   : AIC=inf, Time=1.44 sec\n",
      " ARIMA(0,0,0)(0,0,1)[12] intercept   : AIC=146230.159, Time=0.18 sec\n",
      " ARIMA(0,0,0)(1,0,1)[12] intercept   : AIC=inf, Time=0.63 sec\n",
      " ARIMA(1,0,0)(0,0,0)[12] intercept   : AIC=inf, Time=0.06 sec\n",
      " ARIMA(0,0,1)(0,0,0)[12] intercept   : AIC=168782.654, Time=0.16 sec\n",
      " ARIMA(1,0,1)(0,0,0)[12] intercept   : AIC=146393.371, Time=0.19 sec\n",
      "\n",
      "Best model:  ARIMA(0,0,0)(0,0,0)[12] intercept\n",
      "Total fit time: 5.225 seconds\n",
      "Performing stepwise search to minimize aic\n",
      " ARIMA(2,0,2)(1,0,1)[12] intercept   : AIC=inf, Time=0.57 sec\n",
      " ARIMA(0,0,0)(0,0,0)[12] intercept   : AIC=146228.160, Time=0.03 sec\n",
      " ARIMA(1,0,0)(1,0,0)[12] intercept   : AIC=inf, Time=1.43 sec\n",
      " ARIMA(0,0,1)(0,0,1)[12] intercept   : AIC=168442.044, Time=0.31 sec\n",
      " ARIMA(0,0,0)(0,0,0)[12]             : AIC=170217.460, Time=0.03 sec\n",
      " ARIMA(0,0,0)(1,0,0)[12] intercept   : AIC=inf, Time=1.43 sec\n",
      " ARIMA(0,0,0)(0,0,1)[12] intercept   : AIC=146230.159, Time=0.17 sec\n",
      " ARIMA(0,0,0)(1,0,1)[12] intercept   : AIC=inf, Time=0.64 sec\n",
      " ARIMA(1,0,0)(0,0,0)[12] intercept   : AIC=inf, Time=0.05 sec\n",
      " ARIMA(0,0,1)(0,0,0)[12] intercept   : AIC=168782.654, Time=0.17 sec\n",
      " ARIMA(1,0,1)(0,0,0)[12] intercept   : AIC=146393.371, Time=0.20 sec\n",
      "\n",
      "Best model:  ARIMA(0,0,0)(0,0,0)[12] intercept\n",
      "Total fit time: 5.040 seconds\n"
     ]
    }
   ],
   "source": [
    "arima_A9 = pm.auto_arima(x_train_A9, error_action='ignore', trace=True,suppress_warnings=True, maxiter=5,seasonal=True, m=12)\n",
    "arima_A7 = pm.auto_arima(x_train_A9, error_action='ignore', trace=True,suppress_warnings=True, maxiter=5,seasonal=True, m=12)\n",
    "arima_A2 = pm.auto_arima(x_train_A9, error_action='ignore', trace=True,suppress_warnings=True, maxiter=5,seasonal=True, m=12)\n"
   ]
  },
  {
   "cell_type": "code",
   "execution_count": 35,
   "metadata": {},
   "outputs": [
    {
     "name": "stderr",
     "output_type": "stream",
     "text": [
      "d:\\IDEs\\anaconda\\envs\\time_series_assgt\\lib\\site-packages\\statsmodels\\tsa\\base\\tsa_model.py:837: ValueWarning: No supported index is available. Prediction results will be given with an integer index beginning at `start`.\n",
      "  return get_prediction_index(\n",
      "d:\\IDEs\\anaconda\\envs\\time_series_assgt\\lib\\site-packages\\statsmodels\\tsa\\base\\tsa_model.py:837: FutureWarning: No supported index is available. In the next version, calling this method in a model without a supported index will result in an exception.\n",
      "  return get_prediction_index(\n",
      "d:\\IDEs\\anaconda\\envs\\time_series_assgt\\lib\\site-packages\\statsmodels\\tsa\\base\\tsa_model.py:837: ValueWarning: No supported index is available. Prediction results will be given with an integer index beginning at `start`.\n",
      "  return get_prediction_index(\n",
      "d:\\IDEs\\anaconda\\envs\\time_series_assgt\\lib\\site-packages\\statsmodels\\tsa\\base\\tsa_model.py:837: FutureWarning: No supported index is available. In the next version, calling this method in a model without a supported index will result in an exception.\n",
      "  return get_prediction_index(\n",
      "d:\\IDEs\\anaconda\\envs\\time_series_assgt\\lib\\site-packages\\statsmodels\\tsa\\base\\tsa_model.py:837: ValueWarning: No supported index is available. Prediction results will be given with an integer index beginning at `start`.\n",
      "  return get_prediction_index(\n",
      "d:\\IDEs\\anaconda\\envs\\time_series_assgt\\lib\\site-packages\\statsmodels\\tsa\\base\\tsa_model.py:837: FutureWarning: No supported index is available. In the next version, calling this method in a model without a supported index will result in an exception.\n",
      "  return get_prediction_index(\n"
     ]
    }
   ],
   "source": [
    "arima_A2_pred = arima_A2.predict(n_periods=len(x_test_A2))\n",
    "arima_A7_pred = arima_A7.predict(n_periods=len(x_test_A7))\n",
    "arima_A9_pred = arima_A9.predict(n_periods=len(x_test_A9))"
   ]
  },
  {
   "cell_type": "code",
   "execution_count": null,
   "metadata": {},
   "outputs": [],
   "source": []
  }
 ],
 "metadata": {
  "kernelspec": {
   "display_name": "time_series_assgt",
   "language": "python",
   "name": "python3"
  },
  "language_info": {
   "codemirror_mode": {
    "name": "ipython",
    "version": 3
   },
   "file_extension": ".py",
   "mimetype": "text/x-python",
   "name": "python",
   "nbconvert_exporter": "python",
   "pygments_lexer": "ipython3",
   "version": "3.10.15"
  }
 },
 "nbformat": 4,
 "nbformat_minor": 2
}
