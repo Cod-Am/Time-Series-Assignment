{
 "cells": [
  {
   "cell_type": "code",
   "execution_count": 4,
   "metadata": {},
   "outputs": [],
   "source": [
    "import pandas as pd\n",
    "import numpy as np\n",
    "import matplotlib.pyplot as plt\n",
    "from xgboost import XGBClassifier"
   ]
  },
  {
   "cell_type": "code",
   "execution_count": 5,
   "metadata": {},
   "outputs": [
    {
     "name": "stdout",
     "output_type": "stream",
     "text": [
      "<class 'pandas.core.frame.DataFrame'>\n",
      "RangeIndex: 21371 entries, 0 to 21370\n",
      "Data columns (total 2 columns):\n",
      " #   Column        Non-Null Count  Dtype \n",
      "---  ------        --------------  ----- \n",
      " 0   API Code      21371 non-null  object\n",
      " 1   Time of Call  21371 non-null  object\n",
      "dtypes: object(2)\n",
      "memory usage: 334.0+ KB\n"
     ]
    }
   ],
   "source": [
    "dataset = pd.read_csv('API Call Dataset.csv')\n",
    "dataset.info()"
   ]
  },
  {
   "cell_type": "code",
   "execution_count": 6,
   "metadata": {},
   "outputs": [
    {
     "data": {
      "text/plain": [
       "API Code\n",
       "A9    2451\n",
       "A2    2438\n",
       "A7    2410\n",
       "A4    2402\n",
       "A1    2363\n",
       "A3    2359\n",
       "A6    2348\n",
       "A5    2323\n",
       "A8    2277\n",
       "Name: count, dtype: int64"
      ]
     },
     "execution_count": 6,
     "metadata": {},
     "output_type": "execute_result"
    }
   ],
   "source": [
    "dataset['API Code'].value_counts()"
   ]
  },
  {
   "cell_type": "code",
   "execution_count": 7,
   "metadata": {},
   "outputs": [],
   "source": [
    "# A9 A2 A7 are top three most frequent calls\n",
    "dataset[dataset['API Code']=='A9'].to_csv('A9.csv',index = False)\n",
    "dataset[dataset['API Code']=='A2'].to_csv('A2.csv', index = False)\n",
    "dataset[dataset['API Code']=='A7'].to_csv('A7.csv', index = False)"
   ]
  },
  {
   "cell_type": "code",
   "execution_count": 8,
   "metadata": {},
   "outputs": [],
   "source": [
    "A2_dataset = pd.read_csv('A2.csv')\n",
    "A7_dataset = pd.read_csv('A7.csv')\n",
    "A9_dataset = pd.read_csv('A9.csv')"
   ]
  },
  {
   "cell_type": "code",
   "execution_count": 9,
   "metadata": {},
   "outputs": [
    {
     "name": "stdout",
     "output_type": "stream",
     "text": [
      "<class 'pandas.core.frame.DataFrame'>\n",
      "RangeIndex: 2438 entries, 0 to 2437\n",
      "Data columns (total 2 columns):\n",
      " #   Column        Non-Null Count  Dtype \n",
      "---  ------        --------------  ----- \n",
      " 0   API Code      2438 non-null   object\n",
      " 1   Time of Call  2438 non-null   object\n",
      "dtypes: object(2)\n",
      "memory usage: 38.2+ KB\n"
     ]
    }
   ],
   "source": [
    "A2_dataset.info()"
   ]
  },
  {
   "cell_type": "code",
   "execution_count": 12,
   "metadata": {},
   "outputs": [],
   "source": [
    "A2_dataset['time_of_call'] = pd.to_datetime(A2_dataset['Time of Call'],format='mixed',dayfirst=True)\n",
    "A2_dataset = A2_dataset.drop('Time of Call',axis=1)\n",
    "\n",
    "A7_dataset['time_of_call'] = pd.to_datetime(A7_dataset['Time of Call'],format='mixed',dayfirst=True)\n",
    "A7_dataset = A7_dataset.drop('Time of Call',axis=1)\n",
    "\n",
    "A9_dataset['time_of_call'] = pd.to_datetime(A9_dataset['Time of Call'],format='mixed',dayfirst=True)\n",
    "A9_dataset = A9_dataset.drop('Time of Call',axis=1)"
   ]
  },
  {
   "cell_type": "code",
   "execution_count": 16,
   "metadata": {},
   "outputs": [],
   "source": [
    "A2_dataset['time_of_call']=A2_dataset['time_of_call'].astype('int')\n",
    "A7_dataset['time_of_call']=A7_dataset['time_of_call'].astype('int')\n",
    "A9_dataset['time_of_call']=A9_dataset['time_of_call'].astype('int')"
   ]
  },
  {
   "cell_type": "code",
   "execution_count": 17,
   "metadata": {},
   "outputs": [],
   "source": [
    "processed_dataset = pd.concat([A2_dataset,A7_dataset,A9_dataset],axis=0)"
   ]
  },
  {
   "cell_type": "code",
   "execution_count": null,
   "metadata": {},
   "outputs": [],
   "source": []
  }
 ],
 "metadata": {
  "kernelspec": {
   "display_name": "time_series_assgt",
   "language": "python",
   "name": "python3"
  },
  "language_info": {
   "codemirror_mode": {
    "name": "ipython",
    "version": 3
   },
   "file_extension": ".py",
   "mimetype": "text/x-python",
   "name": "python",
   "nbconvert_exporter": "python",
   "pygments_lexer": "ipython3",
   "version": "3.10.15"
  }
 },
 "nbformat": 4,
 "nbformat_minor": 2
}
